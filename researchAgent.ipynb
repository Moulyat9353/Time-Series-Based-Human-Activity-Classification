{
  "nbformat": 4,
  "nbformat_minor": 0,
  "metadata": {
    "colab": {
      "provenance": []
    },
    "kernelspec": {
      "name": "python3",
      "display_name": "Python 3"
    },
    "language_info": {
      "name": "python"
    }
  },
  "cells": [
    {
      "cell_type": "code",
      "execution_count": null,
      "metadata": {
        "colab": {
          "base_uri": "https://localhost:8080/"
        },
        "id": "GqRLY3vQOUcM",
        "outputId": "9bfa9cb6-82f9-4abb-dec8-55f7e30cd3ea"
      },
      "outputs": [
        {
          "output_type": "stream",
          "name": "stdout",
          "text": [
            "Collecting langgraph\n",
            "  Downloading langgraph-0.5.0-py3-none-any.whl.metadata (6.7 kB)\n",
            "Collecting langchain_community\n",
            "  Downloading langchain_community-0.3.26-py3-none-any.whl.metadata (2.9 kB)\n",
            "Collecting langchain_anthropic\n",
            "  Downloading langchain_anthropic-0.3.16-py3-none-any.whl.metadata (1.9 kB)\n",
            "Collecting langchain_experimental\n",
            "  Downloading langchain_experimental-0.3.4-py3-none-any.whl.metadata (1.7 kB)\n",
            "Requirement already satisfied: langchain-core>=0.1 in /usr/local/lib/python3.11/dist-packages (from langgraph) (0.3.66)\n",
            "Collecting langgraph-checkpoint>=2.1.0 (from langgraph)\n",
            "  Downloading langgraph_checkpoint-2.1.0-py3-none-any.whl.metadata (4.2 kB)\n",
            "Collecting langgraph-prebuilt>=0.5.0 (from langgraph)\n",
            "  Downloading langgraph_prebuilt-0.5.1-py3-none-any.whl.metadata (4.5 kB)\n",
            "Collecting langgraph-sdk>=0.1.42 (from langgraph)\n",
            "  Downloading langgraph_sdk-0.1.72-py3-none-any.whl.metadata (1.5 kB)\n",
            "Requirement already satisfied: pydantic>=2.7.4 in /usr/local/lib/python3.11/dist-packages (from langgraph) (2.11.7)\n",
            "Requirement already satisfied: xxhash>=3.5.0 in /usr/local/lib/python3.11/dist-packages (from langgraph) (3.5.0)\n",
            "Requirement already satisfied: langchain<1.0.0,>=0.3.26 in /usr/local/lib/python3.11/dist-packages (from langchain_community) (0.3.26)\n",
            "Requirement already satisfied: SQLAlchemy<3,>=1.4 in /usr/local/lib/python3.11/dist-packages (from langchain_community) (2.0.41)\n",
            "Requirement already satisfied: requests<3,>=2 in /usr/local/lib/python3.11/dist-packages (from langchain_community) (2.32.3)\n",
            "Requirement already satisfied: PyYAML>=5.3 in /usr/local/lib/python3.11/dist-packages (from langchain_community) (6.0.2)\n",
            "Requirement already satisfied: aiohttp<4.0.0,>=3.8.3 in /usr/local/lib/python3.11/dist-packages (from langchain_community) (3.11.15)\n",
            "Requirement already satisfied: tenacity!=8.4.0,<10,>=8.1.0 in /usr/local/lib/python3.11/dist-packages (from langchain_community) (8.5.0)\n",
            "Collecting dataclasses-json<0.7,>=0.5.7 (from langchain_community)\n",
            "  Downloading dataclasses_json-0.6.7-py3-none-any.whl.metadata (25 kB)\n",
            "Collecting pydantic-settings<3.0.0,>=2.4.0 (from langchain_community)\n",
            "  Downloading pydantic_settings-2.10.1-py3-none-any.whl.metadata (3.4 kB)\n",
            "Requirement already satisfied: langsmith>=0.1.125 in /usr/local/lib/python3.11/dist-packages (from langchain_community) (0.4.1)\n",
            "Collecting httpx-sse<1.0.0,>=0.4.0 (from langchain_community)\n",
            "  Downloading httpx_sse-0.4.1-py3-none-any.whl.metadata (9.4 kB)\n",
            "Requirement already satisfied: numpy>=1.26.2 in /usr/local/lib/python3.11/dist-packages (from langchain_community) (2.0.2)\n",
            "Collecting anthropic<1,>=0.52.0 (from langchain_anthropic)\n",
            "  Downloading anthropic-0.55.0-py3-none-any.whl.metadata (27 kB)\n",
            "Requirement already satisfied: aiohappyeyeballs>=2.3.0 in /usr/local/lib/python3.11/dist-packages (from aiohttp<4.0.0,>=3.8.3->langchain_community) (2.6.1)\n",
            "Requirement already satisfied: aiosignal>=1.1.2 in /usr/local/lib/python3.11/dist-packages (from aiohttp<4.0.0,>=3.8.3->langchain_community) (1.3.2)\n",
            "Requirement already satisfied: attrs>=17.3.0 in /usr/local/lib/python3.11/dist-packages (from aiohttp<4.0.0,>=3.8.3->langchain_community) (25.3.0)\n",
            "Requirement already satisfied: frozenlist>=1.1.1 in /usr/local/lib/python3.11/dist-packages (from aiohttp<4.0.0,>=3.8.3->langchain_community) (1.7.0)\n",
            "Requirement already satisfied: multidict<7.0,>=4.5 in /usr/local/lib/python3.11/dist-packages (from aiohttp<4.0.0,>=3.8.3->langchain_community) (6.4.4)\n",
            "Requirement already satisfied: propcache>=0.2.0 in /usr/local/lib/python3.11/dist-packages (from aiohttp<4.0.0,>=3.8.3->langchain_community) (0.3.2)\n",
            "Requirement already satisfied: yarl<2.0,>=1.17.0 in /usr/local/lib/python3.11/dist-packages (from aiohttp<4.0.0,>=3.8.3->langchain_community) (1.20.1)\n",
            "Requirement already satisfied: anyio<5,>=3.5.0 in /usr/local/lib/python3.11/dist-packages (from anthropic<1,>=0.52.0->langchain_anthropic) (4.9.0)\n",
            "Requirement already satisfied: distro<2,>=1.7.0 in /usr/local/lib/python3.11/dist-packages (from anthropic<1,>=0.52.0->langchain_anthropic) (1.9.0)\n",
            "Requirement already satisfied: httpx<1,>=0.25.0 in /usr/local/lib/python3.11/dist-packages (from anthropic<1,>=0.52.0->langchain_anthropic) (0.28.1)\n",
            "Requirement already satisfied: jiter<1,>=0.4.0 in /usr/local/lib/python3.11/dist-packages (from anthropic<1,>=0.52.0->langchain_anthropic) (0.10.0)\n",
            "Requirement already satisfied: sniffio in /usr/local/lib/python3.11/dist-packages (from anthropic<1,>=0.52.0->langchain_anthropic) (1.3.1)\n",
            "Requirement already satisfied: typing-extensions<5,>=4.10 in /usr/local/lib/python3.11/dist-packages (from anthropic<1,>=0.52.0->langchain_anthropic) (4.14.0)\n",
            "Collecting marshmallow<4.0.0,>=3.18.0 (from dataclasses-json<0.7,>=0.5.7->langchain_community)\n",
            "  Downloading marshmallow-3.26.1-py3-none-any.whl.metadata (7.3 kB)\n",
            "Collecting typing-inspect<1,>=0.4.0 (from dataclasses-json<0.7,>=0.5.7->langchain_community)\n",
            "  Downloading typing_inspect-0.9.0-py3-none-any.whl.metadata (1.5 kB)\n",
            "Requirement already satisfied: langchain-text-splitters<1.0.0,>=0.3.8 in /usr/local/lib/python3.11/dist-packages (from langchain<1.0.0,>=0.3.26->langchain_community) (0.3.8)\n",
            "Requirement already satisfied: jsonpatch<2.0,>=1.33 in /usr/local/lib/python3.11/dist-packages (from langchain-core>=0.1->langgraph) (1.33)\n",
            "Requirement already satisfied: packaging<25,>=23.2 in /usr/local/lib/python3.11/dist-packages (from langchain-core>=0.1->langgraph) (24.2)\n",
            "Collecting ormsgpack>=1.10.0 (from langgraph-checkpoint>=2.1.0->langgraph)\n",
            "  Downloading ormsgpack-1.10.0-cp311-cp311-manylinux_2_17_x86_64.manylinux2014_x86_64.whl.metadata (43 kB)\n",
            "\u001b[2K     \u001b[90m━━━━━━━━━━━━━━━━━━━━━━━━━━━━━━━━━━━━━━━━\u001b[0m \u001b[32m43.7/43.7 kB\u001b[0m \u001b[31m3.7 MB/s\u001b[0m eta \u001b[36m0:00:00\u001b[0m\n",
            "\u001b[?25hRequirement already satisfied: orjson>=3.10.1 in /usr/local/lib/python3.11/dist-packages (from langgraph-sdk>=0.1.42->langgraph) (3.10.18)\n",
            "Requirement already satisfied: requests-toolbelt<2.0.0,>=1.0.0 in /usr/local/lib/python3.11/dist-packages (from langsmith>=0.1.125->langchain_community) (1.0.0)\n",
            "Requirement already satisfied: zstandard<0.24.0,>=0.23.0 in /usr/local/lib/python3.11/dist-packages (from langsmith>=0.1.125->langchain_community) (0.23.0)\n",
            "Requirement already satisfied: annotated-types>=0.6.0 in /usr/local/lib/python3.11/dist-packages (from pydantic>=2.7.4->langgraph) (0.7.0)\n",
            "Requirement already satisfied: pydantic-core==2.33.2 in /usr/local/lib/python3.11/dist-packages (from pydantic>=2.7.4->langgraph) (2.33.2)\n",
            "Requirement already satisfied: typing-inspection>=0.4.0 in /usr/local/lib/python3.11/dist-packages (from pydantic>=2.7.4->langgraph) (0.4.1)\n",
            "Collecting python-dotenv>=0.21.0 (from pydantic-settings<3.0.0,>=2.4.0->langchain_community)\n",
            "  Downloading python_dotenv-1.1.1-py3-none-any.whl.metadata (24 kB)\n",
            "Requirement already satisfied: charset-normalizer<4,>=2 in /usr/local/lib/python3.11/dist-packages (from requests<3,>=2->langchain_community) (3.4.2)\n",
            "Requirement already satisfied: idna<4,>=2.5 in /usr/local/lib/python3.11/dist-packages (from requests<3,>=2->langchain_community) (3.10)\n",
            "Requirement already satisfied: urllib3<3,>=1.21.1 in /usr/local/lib/python3.11/dist-packages (from requests<3,>=2->langchain_community) (2.4.0)\n",
            "Requirement already satisfied: certifi>=2017.4.17 in /usr/local/lib/python3.11/dist-packages (from requests<3,>=2->langchain_community) (2025.6.15)\n",
            "Requirement already satisfied: greenlet>=1 in /usr/local/lib/python3.11/dist-packages (from SQLAlchemy<3,>=1.4->langchain_community) (3.2.3)\n",
            "Requirement already satisfied: httpcore==1.* in /usr/local/lib/python3.11/dist-packages (from httpx<1,>=0.25.0->anthropic<1,>=0.52.0->langchain_anthropic) (1.0.9)\n",
            "Requirement already satisfied: h11>=0.16 in /usr/local/lib/python3.11/dist-packages (from httpcore==1.*->httpx<1,>=0.25.0->anthropic<1,>=0.52.0->langchain_anthropic) (0.16.0)\n",
            "Requirement already satisfied: jsonpointer>=1.9 in /usr/local/lib/python3.11/dist-packages (from jsonpatch<2.0,>=1.33->langchain-core>=0.1->langgraph) (3.0.0)\n",
            "Collecting mypy-extensions>=0.3.0 (from typing-inspect<1,>=0.4.0->dataclasses-json<0.7,>=0.5.7->langchain_community)\n",
            "  Downloading mypy_extensions-1.1.0-py3-none-any.whl.metadata (1.1 kB)\n",
            "Downloading langgraph-0.5.0-py3-none-any.whl (143 kB)\n",
            "\u001b[2K   \u001b[90m━━━━━━━━━━━━━━━━━━━━━━━━━━━━━━━━━━━━━━━━\u001b[0m \u001b[32m143.7/143.7 kB\u001b[0m \u001b[31m6.5 MB/s\u001b[0m eta \u001b[36m0:00:00\u001b[0m\n",
            "\u001b[?25hDownloading langchain_community-0.3.26-py3-none-any.whl (2.5 MB)\n",
            "\u001b[2K   \u001b[90m━━━━━━━━━━━━━━━━━━━━━━━━━━━━━━━━━━━━━━━━\u001b[0m \u001b[32m2.5/2.5 MB\u001b[0m \u001b[31m48.6 MB/s\u001b[0m eta \u001b[36m0:00:00\u001b[0m\n",
            "\u001b[?25hDownloading langchain_anthropic-0.3.16-py3-none-any.whl (29 kB)\n",
            "Downloading langchain_experimental-0.3.4-py3-none-any.whl (209 kB)\n",
            "\u001b[2K   \u001b[90m━━━━━━━━━━━━━━━━━━━━━━━━━━━━━━━━━━━━━━━━\u001b[0m \u001b[32m209.2/209.2 kB\u001b[0m \u001b[31m16.3 MB/s\u001b[0m eta \u001b[36m0:00:00\u001b[0m\n",
            "\u001b[?25hDownloading anthropic-0.55.0-py3-none-any.whl (289 kB)\n",
            "\u001b[2K   \u001b[90m━━━━━━━━━━━━━━━━━━━━━━━━━━━━━━━━━━━━━━━━\u001b[0m \u001b[32m289.3/289.3 kB\u001b[0m \u001b[31m24.1 MB/s\u001b[0m eta \u001b[36m0:00:00\u001b[0m\n",
            "\u001b[?25hDownloading dataclasses_json-0.6.7-py3-none-any.whl (28 kB)\n",
            "Downloading httpx_sse-0.4.1-py3-none-any.whl (8.1 kB)\n",
            "Downloading langgraph_checkpoint-2.1.0-py3-none-any.whl (43 kB)\n",
            "\u001b[2K   \u001b[90m━━━━━━━━━━━━━━━━━━━━━━━━━━━━━━━━━━━━━━━━\u001b[0m \u001b[32m43.8/43.8 kB\u001b[0m \u001b[31m3.0 MB/s\u001b[0m eta \u001b[36m0:00:00\u001b[0m\n",
            "\u001b[?25hDownloading langgraph_prebuilt-0.5.1-py3-none-any.whl (23 kB)\n",
            "Downloading langgraph_sdk-0.1.72-py3-none-any.whl (50 kB)\n",
            "\u001b[2K   \u001b[90m━━━━━━━━━━━━━━━━━━━━━━━━━━━━━━━━━━━━━━━━\u001b[0m \u001b[32m50.1/50.1 kB\u001b[0m \u001b[31m4.5 MB/s\u001b[0m eta \u001b[36m0:00:00\u001b[0m\n",
            "\u001b[?25hDownloading pydantic_settings-2.10.1-py3-none-any.whl (45 kB)\n",
            "\u001b[2K   \u001b[90m━━━━━━━━━━━━━━━━━━━━━━━━━━━━━━━━━━━━━━━━\u001b[0m \u001b[32m45.2/45.2 kB\u001b[0m \u001b[31m4.0 MB/s\u001b[0m eta \u001b[36m0:00:00\u001b[0m\n",
            "\u001b[?25hDownloading marshmallow-3.26.1-py3-none-any.whl (50 kB)\n",
            "\u001b[2K   \u001b[90m━━━━━━━━━━━━━━━━━━━━━━━━━━━━━━━━━━━━━━━━\u001b[0m \u001b[32m50.9/50.9 kB\u001b[0m \u001b[31m4.6 MB/s\u001b[0m eta \u001b[36m0:00:00\u001b[0m\n",
            "\u001b[?25hDownloading ormsgpack-1.10.0-cp311-cp311-manylinux_2_17_x86_64.manylinux2014_x86_64.whl (216 kB)\n",
            "\u001b[2K   \u001b[90m━━━━━━━━━━━━━━━━━━━━━━━━━━━━━━━━━━━━━━━━\u001b[0m \u001b[32m216.5/216.5 kB\u001b[0m \u001b[31m18.4 MB/s\u001b[0m eta \u001b[36m0:00:00\u001b[0m\n",
            "\u001b[?25hDownloading python_dotenv-1.1.1-py3-none-any.whl (20 kB)\n",
            "Downloading typing_inspect-0.9.0-py3-none-any.whl (8.8 kB)\n",
            "Downloading mypy_extensions-1.1.0-py3-none-any.whl (5.0 kB)\n",
            "Installing collected packages: python-dotenv, ormsgpack, mypy-extensions, marshmallow, httpx-sse, typing-inspect, pydantic-settings, langgraph-sdk, dataclasses-json, anthropic, langgraph-checkpoint, langchain_anthropic, langgraph-prebuilt, langgraph, langchain_community, langchain_experimental\n",
            "Successfully installed anthropic-0.55.0 dataclasses-json-0.6.7 httpx-sse-0.4.1 langchain_anthropic-0.3.16 langchain_community-0.3.26 langchain_experimental-0.3.4 langgraph-0.5.0 langgraph-checkpoint-2.1.0 langgraph-prebuilt-0.5.1 langgraph-sdk-0.1.72 marshmallow-3.26.1 mypy-extensions-1.1.0 ormsgpack-1.10.0 pydantic-settings-2.10.1 python-dotenv-1.1.1 typing-inspect-0.9.0\n"
          ]
        }
      ],
      "source": [
        "%pip install -U langgraph langchain_community langchain_anthropic langchain_experimental"
      ]
    },
    {
      "cell_type": "code",
      "source": [
        "import getpass\n",
        "import os\n",
        "from google.colab import userdata\n",
        "\n",
        "\n",
        "os.environ[\"TAVILY_API_KEY\"] = userdata.get(\"TAVILY_API_KEY\")\n",
        "os.environ[\"OPENAI_API_KEY\"] = userdata.get(\"OPENAI_API_KEY\")"
      ],
      "metadata": {
        "id": "PMB726esOrjW"
      },
      "execution_count": null,
      "outputs": []
    },
    {
      "cell_type": "code",
      "source": [
        "from typing import Annotated, List\n",
        "\n",
        "from langchain_community.document_loaders import WebBaseLoader\n",
        "from langchain_community.tools.tavily_search import TavilySearchResults\n",
        "from langchain_core.tools import tool\n",
        "\n",
        "tavily_tool = TavilySearchResults(max_results=5)\n",
        "\n",
        "\n",
        "@tool\n",
        "def scrape_webpages(urls: List[str]) -> str:\n",
        "    \"\"\"Use requests and bs4 to scrape the provided web pages for detailed information.\"\"\"\n",
        "    loader = WebBaseLoader(urls)\n",
        "    docs = loader.load()\n",
        "    return \"\\n\\n\".join(\n",
        "        [\n",
        "            f'<Document name=\"{doc.metadata.get(\"title\", \"\")}\">\\n{doc.page_content}\\n</Document>'\n",
        "            for doc in docs\n",
        "        ]\n",
        "    )"
      ],
      "metadata": {
        "id": "UYsDEjmi8BeV",
        "colab": {
          "base_uri": "https://localhost:8080/"
        },
        "outputId": "4a272d2c-231e-4925-ceb7-39bce5d26efc"
      },
      "execution_count": null,
      "outputs": [
        {
          "output_type": "stream",
          "name": "stderr",
          "text": [
            "WARNING:langchain_community.utils.user_agent:USER_AGENT environment variable not set, consider setting it to identify your requests.\n",
            "/tmp/ipython-input-3-4273151664.py:7: LangChainDeprecationWarning: The class `TavilySearchResults` was deprecated in LangChain 0.3.25 and will be removed in 1.0. An updated version of the class exists in the :class:`~langchain-tavily package and should be used instead. To use it run `pip install -U :class:`~langchain-tavily` and import as `from :class:`~langchain_tavily import TavilySearch``.\n",
            "  tavily_tool = TavilySearchResults(max_results=5)\n"
          ]
        }
      ]
    },
    {
      "cell_type": "code",
      "source": [
        "import os\n",
        "from pathlib import Path\n",
        "from langchain_core.tools import tool\n",
        "\n",
        "# Define a safe directory (relative or absolute path)\n",
        "BASE_DIR = Path(\"/content/drive/MyDrive/AI_projects\").resolve()\n",
        "BASE_DIR.mkdir(exist_ok=True)\n",
        "\n",
        "def _safe_path(filename: str) -> Path:\n",
        "    \"\"\"Sanitize and restrict file access to the BASE_DIR folder.\"\"\"\n",
        "    filepath = (BASE_DIR / filename).resolve()\n",
        "    if not filepath.suffix in [\".txt\", \".md\"]:\n",
        "        raise ValueError(\"Only .txt or .md files are allowed.\")\n",
        "    if not str(filepath).startswith(str(BASE_DIR)):\n",
        "        raise ValueError(\"Access to the specified path is not allowed.\")\n",
        "    return filepath\n",
        "\n",
        "@tool\n",
        "def write_file(filename: str, content: str) -> str:\n",
        "    \"\"\"Write content to a file (only .txt or .md allowed).\"\"\"\n",
        "    path = _safe_path(filename)\n",
        "    with open(path, \"w\", encoding=\"utf-8\") as f:\n",
        "        f.write(content)\n",
        "    return f\"✅ File written: {path.name}\"\n",
        "\n",
        "@tool\n",
        "def read_file(filename: str) -> str:\n",
        "    \"\"\"Read the content of a file (only .txt or .md allowed).\"\"\"\n",
        "    path = _safe_path(filename)\n",
        "    if not path.exists():\n",
        "        return \"❌ File not found.\"\n",
        "    with open(path, \"r\", encoding=\"utf-8\") as f:\n",
        "        return f.read()\n",
        "\n",
        "def edit_file(filename: str, new_content: str) -> str:\n",
        "    \"\"\"Overwrite an existing document with new content.\"\"\"\n",
        "    path = _safe_path(filename)\n",
        "    if not path.exists():\n",
        "        return f\"❌ File {path.name} not found.\"\n",
        "    with open(path, \"w\", encoding=\"utf-8\") as f:\n",
        "        f.write(new_content)\n",
        "    return f\"✅ File {path.name} updated successfully.\"\n",
        "\n",
        "\n",
        "@tool\n",
        "def create_outline(\n",
        "    points: Annotated[List[str], \"List of main points or sections.\"],\n",
        "    filename: Annotated[str, \"File name to save the outline (.txt or .md).\"],\n",
        ") -> Annotated[str, \"Confirmation message.\"]:\n",
        "    \"\"\"\n",
        "    Create an outline file from a list of points and save it in the BASE_DIR folder.\n",
        "    Only .txt or .md files are allowed.\n",
        "    \"\"\"\n",
        "    path = _safe_path(filename)\n",
        "    with open(path, \"w\", encoding=\"utf-8\") as file:\n",
        "        for i, point in enumerate(points):\n",
        "            file.write(f\"{i + 1}. {point}\\n\")\n",
        "    return f\"✅ Outline saved to {path.name}\"\n",
        "\n",
        "\n",
        "@tool\n",
        "def list_files() -> str:\n",
        "    \"\"\"List all .txt and .md files in the workspace directory.\"\"\"\n",
        "    files = [f.name for f in BASE_DIR.glob(\"*\") if f.suffix in [\".txt\", \".md\"]]\n",
        "    return \"\\n\".join(files) if files else \"📂 No documents found.\""
      ],
      "metadata": {
        "id": "4THGJml1k3zc"
      },
      "execution_count": null,
      "outputs": []
    },
    {
      "cell_type": "code",
      "source": [
        "from typing import List, Optional, Literal, TypedDict\n",
        "from langchain_core.language_models.chat_models import BaseChatModel\n",
        "\n",
        "from langgraph.graph import StateGraph, MessagesState, START, END\n",
        "from langgraph.types import Command\n",
        "from langchain_core.messages import HumanMessage, trim_messages\n",
        "\n",
        "\n",
        "class State(MessagesState):\n",
        "    next: str\n",
        "\n",
        "\n",
        "def make_supervisor_node(llm: BaseChatModel, members: list[str]) -> str:\n",
        "    options = [\"FINISH\"] + members\n",
        "    system_prompt = (\n",
        "        \"You are a supervisor tasked with managing a conversation between the\"\n",
        "        f\" following workers: {members}. Given the following user request,\"\n",
        "        \" respond with the worker to act next. Each worker will perform a\"\n",
        "        \" task and respond with their results and status. When finished,\"\n",
        "        \" respond with FINISH.\"\n",
        "    )\n",
        "\n",
        "    class Router(TypedDict):\n",
        "        \"\"\"Worker to route to next. If no workers needed, route to FINISH.\"\"\"\n",
        "\n",
        "        next: Literal[*options]\n",
        "\n",
        "    def supervisor_node(state: State) -> Command[Literal[*members, \"__end__\"]]:\n",
        "        \"\"\"An LLM-based router.\"\"\"\n",
        "        messages = [\n",
        "            {\"role\": \"system\", \"content\": system_prompt},\n",
        "        ] + state[\"messages\"]\n",
        "        response = llm.with_structured_output(Router).invoke(messages)\n",
        "        goto = response[\"next\"]\n",
        "        if goto == \"FINISH\":\n",
        "            goto = END\n",
        "\n",
        "        return Command(goto=goto, update={\"next\": goto})\n",
        "\n",
        "    return supervisor_node"
      ],
      "metadata": {
        "id": "RnifE2HVBmed"
      },
      "execution_count": null,
      "outputs": []
    },
    {
      "cell_type": "code",
      "source": [
        "!pip install langchain_openai"
      ],
      "metadata": {
        "colab": {
          "base_uri": "https://localhost:8080/"
        },
        "id": "B2xx0fSvFuZ9",
        "outputId": "f6e56ae3-90d6-494e-80d5-c5987d95461e"
      },
      "execution_count": null,
      "outputs": [
        {
          "output_type": "stream",
          "name": "stdout",
          "text": [
            "Collecting langchain_openai\n",
            "  Downloading langchain_openai-0.3.27-py3-none-any.whl.metadata (2.3 kB)\n",
            "Requirement already satisfied: langchain-core<1.0.0,>=0.3.66 in /usr/local/lib/python3.11/dist-packages (from langchain_openai) (0.3.66)\n",
            "Requirement already satisfied: openai<2.0.0,>=1.86.0 in /usr/local/lib/python3.11/dist-packages (from langchain_openai) (1.91.0)\n",
            "Requirement already satisfied: tiktoken<1,>=0.7 in /usr/local/lib/python3.11/dist-packages (from langchain_openai) (0.9.0)\n",
            "Requirement already satisfied: langsmith>=0.3.45 in /usr/local/lib/python3.11/dist-packages (from langchain-core<1.0.0,>=0.3.66->langchain_openai) (0.4.1)\n",
            "Requirement already satisfied: tenacity!=8.4.0,<10.0.0,>=8.1.0 in /usr/local/lib/python3.11/dist-packages (from langchain-core<1.0.0,>=0.3.66->langchain_openai) (8.5.0)\n",
            "Requirement already satisfied: jsonpatch<2.0,>=1.33 in /usr/local/lib/python3.11/dist-packages (from langchain-core<1.0.0,>=0.3.66->langchain_openai) (1.33)\n",
            "Requirement already satisfied: PyYAML>=5.3 in /usr/local/lib/python3.11/dist-packages (from langchain-core<1.0.0,>=0.3.66->langchain_openai) (6.0.2)\n",
            "Requirement already satisfied: packaging<25,>=23.2 in /usr/local/lib/python3.11/dist-packages (from langchain-core<1.0.0,>=0.3.66->langchain_openai) (24.2)\n",
            "Requirement already satisfied: typing-extensions>=4.7 in /usr/local/lib/python3.11/dist-packages (from langchain-core<1.0.0,>=0.3.66->langchain_openai) (4.14.0)\n",
            "Requirement already satisfied: pydantic>=2.7.4 in /usr/local/lib/python3.11/dist-packages (from langchain-core<1.0.0,>=0.3.66->langchain_openai) (2.11.7)\n",
            "Requirement already satisfied: anyio<5,>=3.5.0 in /usr/local/lib/python3.11/dist-packages (from openai<2.0.0,>=1.86.0->langchain_openai) (4.9.0)\n",
            "Requirement already satisfied: distro<2,>=1.7.0 in /usr/local/lib/python3.11/dist-packages (from openai<2.0.0,>=1.86.0->langchain_openai) (1.9.0)\n",
            "Requirement already satisfied: httpx<1,>=0.23.0 in /usr/local/lib/python3.11/dist-packages (from openai<2.0.0,>=1.86.0->langchain_openai) (0.28.1)\n",
            "Requirement already satisfied: jiter<1,>=0.4.0 in /usr/local/lib/python3.11/dist-packages (from openai<2.0.0,>=1.86.0->langchain_openai) (0.10.0)\n",
            "Requirement already satisfied: sniffio in /usr/local/lib/python3.11/dist-packages (from openai<2.0.0,>=1.86.0->langchain_openai) (1.3.1)\n",
            "Requirement already satisfied: tqdm>4 in /usr/local/lib/python3.11/dist-packages (from openai<2.0.0,>=1.86.0->langchain_openai) (4.67.1)\n",
            "Requirement already satisfied: regex>=2022.1.18 in /usr/local/lib/python3.11/dist-packages (from tiktoken<1,>=0.7->langchain_openai) (2024.11.6)\n",
            "Requirement already satisfied: requests>=2.26.0 in /usr/local/lib/python3.11/dist-packages (from tiktoken<1,>=0.7->langchain_openai) (2.32.3)\n",
            "Requirement already satisfied: idna>=2.8 in /usr/local/lib/python3.11/dist-packages (from anyio<5,>=3.5.0->openai<2.0.0,>=1.86.0->langchain_openai) (3.10)\n",
            "Requirement already satisfied: certifi in /usr/local/lib/python3.11/dist-packages (from httpx<1,>=0.23.0->openai<2.0.0,>=1.86.0->langchain_openai) (2025.6.15)\n",
            "Requirement already satisfied: httpcore==1.* in /usr/local/lib/python3.11/dist-packages (from httpx<1,>=0.23.0->openai<2.0.0,>=1.86.0->langchain_openai) (1.0.9)\n",
            "Requirement already satisfied: h11>=0.16 in /usr/local/lib/python3.11/dist-packages (from httpcore==1.*->httpx<1,>=0.23.0->openai<2.0.0,>=1.86.0->langchain_openai) (0.16.0)\n",
            "Requirement already satisfied: jsonpointer>=1.9 in /usr/local/lib/python3.11/dist-packages (from jsonpatch<2.0,>=1.33->langchain-core<1.0.0,>=0.3.66->langchain_openai) (3.0.0)\n",
            "Requirement already satisfied: orjson<4.0.0,>=3.9.14 in /usr/local/lib/python3.11/dist-packages (from langsmith>=0.3.45->langchain-core<1.0.0,>=0.3.66->langchain_openai) (3.10.18)\n",
            "Requirement already satisfied: requests-toolbelt<2.0.0,>=1.0.0 in /usr/local/lib/python3.11/dist-packages (from langsmith>=0.3.45->langchain-core<1.0.0,>=0.3.66->langchain_openai) (1.0.0)\n",
            "Requirement already satisfied: zstandard<0.24.0,>=0.23.0 in /usr/local/lib/python3.11/dist-packages (from langsmith>=0.3.45->langchain-core<1.0.0,>=0.3.66->langchain_openai) (0.23.0)\n",
            "Requirement already satisfied: annotated-types>=0.6.0 in /usr/local/lib/python3.11/dist-packages (from pydantic>=2.7.4->langchain-core<1.0.0,>=0.3.66->langchain_openai) (0.7.0)\n",
            "Requirement already satisfied: pydantic-core==2.33.2 in /usr/local/lib/python3.11/dist-packages (from pydantic>=2.7.4->langchain-core<1.0.0,>=0.3.66->langchain_openai) (2.33.2)\n",
            "Requirement already satisfied: typing-inspection>=0.4.0 in /usr/local/lib/python3.11/dist-packages (from pydantic>=2.7.4->langchain-core<1.0.0,>=0.3.66->langchain_openai) (0.4.1)\n",
            "Requirement already satisfied: charset-normalizer<4,>=2 in /usr/local/lib/python3.11/dist-packages (from requests>=2.26.0->tiktoken<1,>=0.7->langchain_openai) (3.4.2)\n",
            "Requirement already satisfied: urllib3<3,>=1.21.1 in /usr/local/lib/python3.11/dist-packages (from requests>=2.26.0->tiktoken<1,>=0.7->langchain_openai) (2.4.0)\n",
            "Downloading langchain_openai-0.3.27-py3-none-any.whl (70 kB)\n",
            "\u001b[?25l   \u001b[90m━━━━━━━━━━━━━━━━━━━━━━━━━━━━━━━━━━━━━━━━\u001b[0m \u001b[32m0.0/70.4 kB\u001b[0m \u001b[31m?\u001b[0m eta \u001b[36m-:--:--\u001b[0m\r\u001b[2K   \u001b[90m━━━━━━━━━━━━━━━━━━━━━━━━━━━━━━━━━━━━━━━━\u001b[0m \u001b[32m70.4/70.4 kB\u001b[0m \u001b[31m2.4 MB/s\u001b[0m eta \u001b[36m0:00:00\u001b[0m\n",
            "\u001b[?25hInstalling collected packages: langchain_openai\n",
            "Successfully installed langchain_openai-0.3.27\n"
          ]
        }
      ]
    },
    {
      "cell_type": "code",
      "source": [
        "from langchain_core.messages import HumanMessage\n",
        "from langchain_openai import ChatOpenAI\n",
        "from langgraph.prebuilt import create_react_agent\n",
        "\n",
        "llm = ChatOpenAI(model=\"gpt-4o\")\n",
        "\n",
        "search_agent = create_react_agent(llm, tools=[tavily_tool])\n",
        "\n",
        "\n",
        "def search_node(state: State) -> Command[Literal[\"supervisor\"]]:\n",
        "    result = search_agent.invoke(state)\n",
        "    return Command(\n",
        "        update={\n",
        "            \"messages\": [\n",
        "                HumanMessage(content=result[\"messages\"][-1].content, name=\"search\")\n",
        "            ]\n",
        "        },\n",
        "        # We want our workers to ALWAYS \"report back\" to the supervisor when done\n",
        "        goto=\"supervisor\",\n",
        "    )\n",
        "\n",
        "\n",
        "web_scraper_agent = create_react_agent(llm, tools=[scrape_webpages])\n",
        "\n",
        "\n",
        "def web_scraper_node(state: State) -> Command[Literal[\"supervisor\"]]:\n",
        "    result = web_scraper_agent.invoke(state)\n",
        "    return Command(\n",
        "        update={\n",
        "            \"messages\": [\n",
        "                HumanMessage(content=result[\"messages\"][-1].content, name=\"web_scraper\")\n",
        "            ]\n",
        "        },\n",
        "        # We want our workers to ALWAYS \"report back\" to the supervisor when done\n",
        "        goto=\"supervisor\",\n",
        "    )\n",
        "\n",
        "\n",
        "research_supervisor_node = make_supervisor_node(llm, [\"search\", \"web_scraper\"])"
      ],
      "metadata": {
        "id": "Olt_r3diFksB"
      },
      "execution_count": null,
      "outputs": []
    },
    {
      "cell_type": "code",
      "source": [
        "research_builder = StateGraph(State)\n",
        "research_builder.add_node(\"supervisor\", research_supervisor_node)\n",
        "research_builder.add_node(\"search\", search_node)\n",
        "research_builder.add_node(\"web_scraper\", web_scraper_node)\n",
        "\n",
        "research_builder.add_edge(START, \"supervisor\")\n",
        "research_graph = research_builder.compile()"
      ],
      "metadata": {
        "id": "zygleQStGxJY"
      },
      "execution_count": null,
      "outputs": []
    },
    {
      "cell_type": "code",
      "source": [
        "from IPython.display import Image, display\n",
        "\n",
        "display(Image(research_graph.get_graph().draw_mermaid_png()))"
      ],
      "metadata": {
        "colab": {
          "base_uri": "https://localhost:8080/",
          "height": 266
        },
        "id": "Kb7gc4-TG37x",
        "outputId": "a951d881-c7f6-4bdf-b079-4b1e8eb32c4c"
      },
      "execution_count": null,
      "outputs": [
        {
          "output_type": "display_data",
          "data": {
            "image/png": "[encoded data removed]",
            "text/plain": [
              "<IPython.core.display.Image object>"
            ]
          },
          "metadata": {}
        }
      ]
    },
    {
      "cell_type": "code",
      "source": [
        "for s in research_graph.stream(\n",
        "    {\"messages\": [(\"user\", \"Summarize the page at https://fullscale.io/blog/ai-development-trends-2023/.\")]},\n",
        "    {\"recursion_limit\": 100},\n",
        "):\n",
        "    print(s)\n",
        "    print(\"---\")"
      ],
      "metadata": {
        "colab": {
          "base_uri": "https://localhost:8080/"
        },
        "id": "ePH3eYTgG6T-",
        "outputId": "648dffc9-d32b-4e03-d403-9bb3d82e9758"
      },
      "execution_count": null,
      "outputs": [
        {
          "output_type": "stream",
          "name": "stdout",
          "text": [
            "{'supervisor': {'next': 'web_scraper'}}\n",
            "---\n",
            "{'web_scraper': {'messages': [HumanMessage(content='The blog post titled \"6 Biggest AI Development Trends to Watch in 2023\" on Full Scale\\'s website discusses several emerging trends in artificial intelligence that are expected to have a significant impact in 2023. The key trends include:\\n\\n1. **Automated Machine Learning (AutoML):** This technology aims to automate the process of selecting, tuning, and optimizing machine learning models, making it easier and quicker to deploy AI applications across various industries like healthcare and finance.\\n\\n2. **Generative AI:** This involves AI\\'s ability to create entirely new content, such as images, videos, and text, from existing data. This trend is exemplified by AI tools like OpenAI and ChatGPT that generate content for various purposes.\\n\\n3. **Natural Language Processing (NLP):** As NLP technology becomes more advanced, digital assistants like Siri and Alexa improve their ability to process and accurately respond to human language, with an increasing use of chatbots for intuitive user interaction.\\n\\n4. **Ethical AI:** There is a growing focus on creating ethical AI systems to alleviate user mistrust, especially concerning data privacy and decision-making transparency. Companies are encouraged to develop systems that eliminate biases and enhance cybersecurity.\\n\\n5. **AI-as-a-Service (AIaaS):** The article highlights the increasing popularity of cloud-based AI platforms, allowing businesses to access and leverage the power of AI without needing to invest heavily in infrastructure.\\n\\n6. **Accessible AI to All:** The democratization of AI, making it available and useful for both personal and professional purposes, is emphasized. Companies are encouraged to innovate by creating new solutions using AI.\\n\\nThe blog concludes by encouraging businesses to adopt these AI trends to stay competitive and grow, advocating for a comprehensive AI strategy. Full Scale offers services to help companies integrate these AI advancements into their operations.', additional_kwargs={}, response_metadata={}, name='web_scraper', id='d756cd1c-d947-4d9b-97dc-43f58f0f281c')]}}\n",
            "---\n"
          ]
        },
        {
          "output_type": "stream",
          "name": "stderr",
          "text": [
            "WARNING:langgraph:Task supervisor with path ('__pregel_pull', 'supervisor') wrote to unknown channel branch:to:__end__, ignoring it.\n"
          ]
        },
        {
          "output_type": "stream",
          "name": "stdout",
          "text": [
            "{'supervisor': {'next': '__end__'}}\n",
            "---\n"
          ]
        }
      ]
    },
    {
      "cell_type": "code",
      "source": [
        "result = web_scraper_node({\"messages\": [HumanMessage(content=\"https://example.com\")]})\n",
        "print(result)"
      ],
      "metadata": {
        "colab": {
          "base_uri": "https://localhost:8080/"
        },
        "id": "S7zHAmuvyzrX",
        "outputId": "98c3b8f4-f5be-40dc-bc66-1b911e0e26bf"
      },
      "execution_count": null,
      "outputs": [
        {
          "output_type": "stream",
          "name": "stdout",
          "text": [
            "Command(update={'messages': [HumanMessage(content=\"It looks like you've shared a URL. How may I assist you with it? Do you need any specific information from this page?\", additional_kwargs={}, response_metadata={}, name='web_scraper')]}, goto='supervisor')\n"
          ]
        }
      ]
    },
    {
      "cell_type": "code",
      "source": [
        "llm = ChatOpenAI(model=\"gpt-4o\")\n",
        "\n",
        "doc_writer_agent = create_react_agent(\n",
        "    llm,\n",
        "    tools=[write_file, edit_file, read_file],\n",
        "    prompt=(\n",
        "        \"You can read, write and edit documents based on note-taker's outlines. \"\n",
        "        \"Don't ask follow-up questions.\"\n",
        "    ),\n",
        ")\n",
        "\n",
        "\n",
        "def doc_writing_node(state: State) -> Command[Literal[\"supervisor\"]]:\n",
        "    result = doc_writer_agent.invoke(state)\n",
        "    return Command(\n",
        "        update={\n",
        "            \"messages\": [\n",
        "                HumanMessage(content=result[\"messages\"][-1].content, name=\"doc_writer\")\n",
        "            ]\n",
        "        },\n",
        "        # We want our workers to ALWAYS \"report back\" to the supervisor when done\n",
        "        goto=\"supervisor\",\n",
        "    )\n",
        "\n",
        "\n",
        "note_taking_agent = create_react_agent(\n",
        "    llm,\n",
        "    tools=[create_outline, read_file],\n",
        "    prompt=(\n",
        "        \"You can read documents and create outlines for the document writer. \"\n",
        "        \"Don't ask follow-up questions.\"\n",
        "    ),\n",
        ")\n",
        "\n",
        "\n",
        "def note_taking_node(state: State) -> Command[Literal[\"supervisor\"]]:\n",
        "    result = note_taking_agent.invoke(state)\n",
        "    return Command(\n",
        "        update={\n",
        "            \"messages\": [\n",
        "                HumanMessage(content=result[\"messages\"][-1].content, name=\"note_taker\")\n",
        "            ]\n",
        "        },\n",
        "        # We want our workers to ALWAYS \"report back\" to the supervisor when done\n",
        "        goto=\"supervisor\",\n",
        "    )\n",
        "\n",
        "\n",
        "doc_writing_supervisor_node = make_supervisor_node(\n",
        "    llm, [\"doc_writer\", \"note_taker\"]\n",
        ")"
      ],
      "metadata": {
        "id": "xaD8gaWmzzB8"
      },
      "execution_count": null,
      "outputs": []
    },
    {
      "cell_type": "code",
      "source": [
        "# Create the graph here\n",
        "paper_writing_builder = StateGraph(State)\n",
        "paper_writing_builder.add_node(\"supervisor\", doc_writing_supervisor_node)\n",
        "paper_writing_builder.add_node(\"doc_writer\", doc_writing_node)\n",
        "paper_writing_builder.add_node(\"note_taker\", note_taking_node)\n",
        "\n",
        "\n",
        "paper_writing_builder.add_edge(START, \"supervisor\")\n",
        "paper_writing_graph = paper_writing_builder.compile()"
      ],
      "metadata": {
        "id": "a5Wi3LQ_16UP"
      },
      "execution_count": null,
      "outputs": []
    },
    {
      "cell_type": "code",
      "source": [
        "from IPython.display import Image, display\n",
        "\n",
        "display(Image(paper_writing_graph.get_graph().draw_mermaid_png()))"
      ],
      "metadata": {
        "colab": {
          "base_uri": "https://localhost:8080/",
          "height": 266
        },
        "id": "gz32dX6W1_uB",
        "outputId": "e22566af-7601-4ad6-e412-ff2fb698eadb"
      },
      "execution_count": null,
      "outputs": [
        {
          "output_type": "display_data",
          "data": {
            "image/png": "[encoded data removed]",
            "text/plain": [
              "<IPython.core.display.Image object>"
            ]
          },
          "metadata": {}
        }
      ]
    },
    {
      "cell_type": "code",
      "source": [
        "for s in paper_writing_graph.stream(\n",
        "    {\n",
        "        \"messages\": [\n",
        "            (\n",
        "                \"user\",\n",
        "                \"Write an outline for latest development in AI domain and then write the information to disk.\",\n",
        "            )\n",
        "        ]\n",
        "    },\n",
        "    {\"recursion_limit\": 100},\n",
        "):\n",
        "    print(s)\n",
        "    print(\"---\")"
      ],
      "metadata": {
        "colab": {
          "base_uri": "https://localhost:8080/"
        },
        "id": "WzWGE3S-2BXu",
        "outputId": "c1d8599d-a034-406f-e044-8ed0ea235521"
      },
      "execution_count": null,
      "outputs": [
        {
          "output_type": "stream",
          "name": "stdout",
          "text": [
            "{'supervisor': {'next': 'note_taker'}}\n",
            "---\n",
            "{'note_taker': {'messages': [HumanMessage(content='The outline for the latest developments in the AI domain has been created and saved as \"latest_developments_in_AI.txt\".', additional_kwargs={}, response_metadata={}, name='note_taker', id='333748e6-9e9e-41cb-b56b-b1201f5c2323')]}}\n",
            "---\n",
            "{'supervisor': {'next': 'note_taker'}}\n",
            "---\n",
            "{'note_taker': {'messages': [HumanMessage(content='The outline for the latest developments in the AI domain has been created and saved as \"latest_developments_in_AI.txt\".', additional_kwargs={}, response_metadata={}, name='note_taker', id='4249e755-5e95-43db-ae70-27e5c89bd761')]}}\n",
            "---\n",
            "{'supervisor': {'next': 'doc_writer'}}\n",
            "---\n",
            "{'doc_writer': {'messages': [HumanMessage(content='The outline for the latest developments in the AI domain has been written to \"latest_developments_in_AI.txt\".', additional_kwargs={}, response_metadata={}, name='doc_writer', id='615eebe2-a32f-4900-b844-b7287dd08e7c')]}}\n",
            "---\n"
          ]
        },
        {
          "output_type": "stream",
          "name": "stderr",
          "text": [
            "WARNING:langgraph:Task supervisor with path ('__pregel_pull', 'supervisor') wrote to unknown channel branch:to:__end__, ignoring it.\n"
          ]
        },
        {
          "output_type": "stream",
          "name": "stdout",
          "text": [
            "{'supervisor': {'next': '__end__'}}\n",
            "---\n"
          ]
        }
      ]
    },
    {
      "cell_type": "code",
      "source": [
        "from langchain_core.messages import BaseMessage\n",
        "\n",
        "llm = ChatOpenAI(model=\"gpt-4o\")\n",
        "\n",
        "teams_supervisor_node = make_supervisor_node(llm, [\"research_team\", \"writing_team\"])"
      ],
      "metadata": {
        "id": "src_9X2O2xhs"
      },
      "execution_count": null,
      "outputs": []
    },
    {
      "cell_type": "code",
      "source": [
        "def call_research_team(state: State) -> Command[Literal[\"supervisor\"]]:\n",
        "    response = research_graph.invoke({\"messages\": state[\"messages\"][-1]})\n",
        "    return Command(\n",
        "        update={\n",
        "            \"messages\": [\n",
        "                HumanMessage(\n",
        "                    content=response[\"messages\"][-1].content, name=\"research_team\"\n",
        "                )\n",
        "            ]\n",
        "        },\n",
        "        goto=\"supervisor\",\n",
        "    )\n",
        "\n",
        "\n",
        "def call_paper_writing_team(state: State) -> Command[Literal[\"supervisor\"]]:\n",
        "    response = paper_writing_graph.invoke({\"messages\": state[\"messages\"][-1]})\n",
        "    return Command(\n",
        "        update={\n",
        "            \"messages\": [\n",
        "                HumanMessage(\n",
        "                    content=response[\"messages\"][-1].content, name=\"writing_team\"\n",
        "                )\n",
        "            ]\n",
        "        },\n",
        "        goto=\"supervisor\",\n",
        "    )\n",
        "\n",
        "\n",
        "# Define the graph.\n",
        "super_builder = StateGraph(State)\n",
        "super_builder.add_node(\"supervisor\", teams_supervisor_node)\n",
        "super_builder.add_node(\"research_team\", call_research_team)\n",
        "super_builder.add_node(\"writing_team\", call_paper_writing_team)\n",
        "\n",
        "super_builder.add_edge(START, \"supervisor\")\n",
        "super_graph = super_builder.compile()"
      ],
      "metadata": {
        "id": "bOjZRbVk2zKS"
      },
      "execution_count": null,
      "outputs": []
    },
    {
      "cell_type": "code",
      "source": [
        "from IPython.display import Image, display\n",
        "\n",
        "display(Image(super_graph.get_graph().draw_mermaid_png()))"
      ],
      "metadata": {
        "colab": {
          "base_uri": "https://localhost:8080/",
          "height": 266
        },
        "id": "M8btk5W_252f",
        "outputId": "8e5205bd-0b50-4a39-a56f-483812aaaaae"
      },
      "execution_count": null,
      "outputs": [
        {
          "output_type": "display_data",
          "data": {
            "image/png": "[encoded data removed]",
            "text/plain": [
              "<IPython.core.display.Image object>"
            ]
          },
          "metadata": {}
        }
      ]
    },
    {
      "cell_type": "code",
      "source": [
        "for s in super_graph.stream(\n",
        "    {\n",
        "        \"messages\": [\n",
        "            (\"user\", \"Research AI agents and write a brief report about them.\")\n",
        "        ],\n",
        "    },\n",
        "    {\"recursion_limit\": 150},\n",
        "):\n",
        "    print(s)\n",
        "    print(\"---\")"
      ],
      "metadata": {
        "colab": {
          "base_uri": "https://localhost:8080/"
        },
        "id": "-p754RLL28xa",
        "outputId": "86f08295-7d59-4102-8011-df8f32cf6bf5"
      },
      "execution_count": null,
      "outputs": [
        {
          "output_type": "stream",
          "name": "stdout",
          "text": [
            "{'supervisor': {'next': 'research_team'}}\n",
            "---\n"
          ]
        },
        {
          "output_type": "stream",
          "name": "stderr",
          "text": [
            "WARNING:langgraph:Task supervisor with path ('__pregel_pull', 'supervisor') wrote to unknown channel branch:to:__end__, ignoring it.\n"
          ]
        },
        {
          "output_type": "stream",
          "name": "stdout",
          "text": [
            "{'research_team': {'messages': [HumanMessage(content=\"### AI Agents: Overview and Current Trends (2023)\\n\\nAI agents are rapidly transforming the landscape of technology and human-machine interaction. These agents function as autonomous systems that perform tasks on behalf of users, often emulating human decision-making and problem-solving abilities. Here's a brief overview of what AI agents are and the current trends related to them:\\n\\n#### What Are AI Agents?\\n- **Definition**: AI agents are software programs that use artificial intelligence to perform specific tasks like data analysis, customer support, or personal assistance. They aim to automate processes and improve productivity.\\n- **Functions**: AI agents can learn from their environments, adapt to new information, make decisions, and execute complex actions autonomously.\\n\\n#### Impact on Business\\n- **Business Value**: AI agents contribute significantly to business efficiency by automating tasks, which not only decreases operational costs but also enhances service delivery. They help companies unlock new business models and accelerate productivity.\\n- **Applications**: In industries such as finance and retail, AI agents are being deployed to drive digital innovations, fulfilling evolving customer demands and assisting in strategic decision-making.\\n\\n#### Technological Integration and Innovation\\n- **Intelligent Agents**: These are integrated with edge computing technologies, creating synergies that enhance real-time data processing and responsiveness.\\n- **Collaboration with Humans**: AI agents are not mere tools; they are becoming collaborative partners that augment human capabilities, supporting tasks that require high precision and autonomy.\\n\\n#### Future of AI Agents\\n- **Beyond 2023**: AI agents are expected to continue transforming human-machine interactions by providing more nuanced and context-aware responses. Innovations like Chain of Thought prompting enable more sophisticated reasoning capabilities.\\n- **Autonomous Actions and Safety**: There is an ongoing focus on ensuring that AI agents operate securely and ethically, especially when they have the capacity to act autonomously.\\n\\n#### Industry Perspectives\\n- **Microsoft's Approach**: Microsoft sees AI agents as pivotal in transforming workplace productivity. Their tools like Copilot allow users to deploy custom AI agents within Microsoft 365 and Dynamics 365 environments without requiring extensive coding knowledge. Emphasis is placed on responsible AI use, ensuring that agents operate within defined safety and privacy parameters.\\n\\nIn summary, AI agents are becoming central to technological and business advancements, offering new dimensions of efficiency and interactivity. As they evolve, these intelligent systems are reshaping how businesses function and how we conceptualize partnerships between humans and machines.\", additional_kwargs={}, response_metadata={}, name='research_team', id='49dbfddd-e592-40cd-a819-43056e43af61')]}}\n",
            "---\n",
            "{'supervisor': {'next': 'writing_team'}}\n",
            "---\n"
          ]
        },
        {
          "output_type": "stream",
          "name": "stderr",
          "text": [
            "WARNING:langgraph:Task supervisor with path ('__pregel_pull', 'supervisor') wrote to unknown channel branch:to:__end__, ignoring it.\n"
          ]
        },
        {
          "output_type": "stream",
          "name": "stdout",
          "text": [
            "{'writing_team': {'messages': [HumanMessage(content='The outline titled \"AI_Agents_Overview_and_Current_Trends_2023_Outline.md\" has been successfully created and saved. It includes sections on the definition and functions of AI agents, their business impact, technological integration, future trends, and industry perspectives, particularly focusing on Microsoft\\'s approach.', additional_kwargs={}, response_metadata={}, name='writing_team', id='f100f2ca-ee6a-4b67-b393-f79c7b2066c8')]}}\n",
            "---\n",
            "{'supervisor': {'next': 'writing_team'}}\n",
            "---\n"
          ]
        },
        {
          "output_type": "stream",
          "name": "stderr",
          "text": [
            "WARNING:langgraph:Task supervisor with path ('__pregel_pull', 'supervisor') wrote to unknown channel branch:to:__end__, ignoring it.\n"
          ]
        },
        {
          "output_type": "stream",
          "name": "stdout",
          "text": [
            "{'writing_team': {'messages': [HumanMessage(content=\"Here is a proposed structure for your document based on the outline provided:\\n\\n1. **Introduction**\\n   - Brief overview of AI agents and their relevance in 2023.\\n   \\n2. **Definition of AI Agents**\\n   - Detailed explanation of what AI agents are.\\n   - Key characteristics and functionalities.\\n   \\n3. **Functions of AI Agents**\\n   - How AI agents perform tasks.\\n   - Examples of AI applications and use cases.\\n   \\n4. **Impact on Business**\\n   - How AI agents influence business operations.\\n   - Examples of industries most affected by AI agent integration.\\n   \\n5. **Technological Integration and Innovation**\\n   - Recent advancements in AI technology.\\n   - How AI agents are being integrated into existing systems.\\n   \\n6. **Future of AI Agents**\\n   - Predictions and trends for the evolution of AI agents.\\n   - Potential opportunities and challenges.\\n   \\n7. **Industry Perspectives**\\n   - Insight into various industry leaders' views on AI agents.\\n   - Focus on Microsoft's strategy and implementation.\\n   \\n8. **Conclusion**\\n   - Summary of key points discussed.\\n   - Final thoughts on the role of AI agents moving forward.\\n\\nFeel free to expand and elaborate on each section to align with the document's objectives and target audience!\", additional_kwargs={}, response_metadata={}, name='writing_team', id='faa45960-3cde-41d7-a70b-9f046048d4bf')]}}\n",
            "---\n",
            "{'supervisor': {'next': 'writing_team'}}\n",
            "---\n"
          ]
        },
        {
          "output_type": "stream",
          "name": "stderr",
          "text": [
            "WARNING:langgraph:Task supervisor with path ('__pregel_pull', 'supervisor') wrote to unknown channel branch:to:__end__, ignoring it.\n"
          ]
        },
        {
          "output_type": "stream",
          "name": "stdout",
          "text": [
            "{'writing_team': {'messages': [HumanMessage(content='The document outline for \"AI Agents in 2023\" has been successfully created and saved as **AI_Agents_2023_Document_Structure.md**. You can now use this outline to expand and elaborate on each section according to your document\\'s objectives and target audience.', additional_kwargs={}, response_metadata={}, name='writing_team', id='b66fe9cc-511f-4dd4-bb35-ed4e8a7719c2')]}}\n",
            "---\n",
            "{'supervisor': {'next': 'writing_team'}}\n",
            "---\n"
          ]
        },
        {
          "output_type": "stream",
          "name": "stderr",
          "text": [
            "WARNING:langgraph:Task supervisor with path ('__pregel_pull', 'supervisor') wrote to unknown channel branch:to:__end__, ignoring it.\n"
          ]
        },
        {
          "output_type": "stream",
          "name": "stdout",
          "text": [
            "{'writing_team': {'messages': [HumanMessage(content='The outline for \"AI Agents in 2023\" includes the following sections that you can elaborate on:\\n\\n1. **Introduction**: \\n   - Give an overview of AI agents and their growing relevance in 2023.\\n\\n2. **Definition of AI Agents**: \\n   - Provide a detailed explanation of AI agents, highlighting key characteristics and functionalities.\\n\\n3. **Functions of AI Agents**: \\n   - Describe how AI agents perform various tasks, using specific examples of applications and use cases.\\n\\n4. **Impact on Business**: \\n   - Discuss how AI agents affect business operations, including examples of industries where integration has been most influential.\\n\\n5. **Technological Integration and Innovation**: \\n   - Explore recent advancements in AI technology and discuss the integration of AI agents into existing systems.\\n\\n6. **Future of AI Agents**: \\n   - Offer predictions and trends regarding the evolution of AI agents, along with potential opportunities and challenges.\\n\\n7. **Industry Perspectives**: \\n   - Provide insights from industry leaders on AI agents, particularly focusing on Microsoft’s strategy and implementation.\\n\\n8. **Conclusion**: \\n   - Summarize the key points from the discussion and final thoughts on the evolving role of AI agents.\\n\\nThis outline will guide you in creating a comprehensive document tailored to your objectives and target audience.', additional_kwargs={}, response_metadata={}, name='writing_team', id='29119dd4-a239-49fb-a6c4-cadd7cb4d08e')]}}\n",
            "---\n",
            "{'supervisor': {'next': 'writing_team'}}\n",
            "---\n"
          ]
        },
        {
          "output_type": "stream",
          "name": "stderr",
          "text": [
            "WARNING:langgraph:Task supervisor with path ('__pregel_pull', 'supervisor') wrote to unknown channel branch:to:__end__, ignoring it.\n"
          ]
        },
        {
          "output_type": "stream",
          "name": "stdout",
          "text": [
            "{'writing_team': {'messages': [HumanMessage(content='The document \"AI_Agents_in_2023.md\" has been successfully created, elaborating on the outline provided for \"AI Agents in 2023\".', additional_kwargs={}, response_metadata={}, name='writing_team', id='ebaf7e72-e431-4015-a3cd-5f6fdc949aa2')]}}\n",
            "---\n"
          ]
        },
        {
          "output_type": "stream",
          "name": "stderr",
          "text": [
            "WARNING:langgraph:Task supervisor with path ('__pregel_pull', 'supervisor') wrote to unknown channel branch:to:__end__, ignoring it.\n"
          ]
        },
        {
          "output_type": "stream",
          "name": "stdout",
          "text": [
            "{'supervisor': {'next': '__end__'}}\n",
            "---\n"
          ]
        }
      ]
    }
  ]
}